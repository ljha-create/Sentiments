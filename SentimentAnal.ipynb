{
 "cells": [
  {
   "cell_type": "code",
   "execution_count": 20,
   "id": "ea52efac",
   "metadata": {},
   "outputs": [
    {
     "name": "stdout",
     "output_type": "stream",
     "text": [
      "Requirement already satisfied: torch in /Users/lakshyajha/anaconda3/lib/python3.11/site-packages (2.3.0)\n",
      "Requirement already satisfied: torchvision in /Users/lakshyajha/anaconda3/lib/python3.11/site-packages (0.18.0)\n",
      "Requirement already satisfied: torchaudio in /Users/lakshyajha/anaconda3/lib/python3.11/site-packages (2.3.0)\n",
      "Requirement already satisfied: filelock in /Users/lakshyajha/anaconda3/lib/python3.11/site-packages (from torch) (3.9.0)\n",
      "Requirement already satisfied: typing-extensions>=4.8.0 in /Users/lakshyajha/anaconda3/lib/python3.11/site-packages (from torch) (4.11.0)\n",
      "Requirement already satisfied: sympy in /Users/lakshyajha/anaconda3/lib/python3.11/site-packages (from torch) (1.11.1)\n",
      "Requirement already satisfied: networkx in /Users/lakshyajha/anaconda3/lib/python3.11/site-packages (from torch) (3.1)\n",
      "Requirement already satisfied: jinja2 in /Users/lakshyajha/anaconda3/lib/python3.11/site-packages (from torch) (3.1.2)\n",
      "Requirement already satisfied: fsspec in /Users/lakshyajha/anaconda3/lib/python3.11/site-packages (from torch) (2023.4.0)\n",
      "Requirement already satisfied: numpy in /Users/lakshyajha/anaconda3/lib/python3.11/site-packages (from torchvision) (1.24.3)\n",
      "Requirement already satisfied: pillow!=8.3.*,>=5.3.0 in /Users/lakshyajha/anaconda3/lib/python3.11/site-packages (from torchvision) (10.2.0)\n",
      "Requirement already satisfied: MarkupSafe>=2.0 in /Users/lakshyajha/anaconda3/lib/python3.11/site-packages (from jinja2->torch) (2.1.1)\n",
      "Requirement already satisfied: mpmath>=0.19 in /Users/lakshyajha/anaconda3/lib/python3.11/site-packages (from sympy->torch) (1.3.0)\n"
     ]
    }
   ],
   "source": [
    "!pip install torch torchvision torchaudio"
   ]
  },
  {
   "cell_type": "code",
   "execution_count": 21,
   "id": "dbc879ee",
   "metadata": {},
   "outputs": [
    {
     "name": "stdout",
     "output_type": "stream",
     "text": [
      "Requirement already satisfied: transformers in /Users/lakshyajha/anaconda3/lib/python3.11/site-packages (4.32.1)\n",
      "Requirement already satisfied: requests in /Users/lakshyajha/anaconda3/lib/python3.11/site-packages (2.31.0)\n",
      "Requirement already satisfied: beautifulsoup4 in /Users/lakshyajha/anaconda3/lib/python3.11/site-packages (4.12.2)\n",
      "Requirement already satisfied: pandas in /Users/lakshyajha/anaconda3/lib/python3.11/site-packages (2.0.3)\n",
      "Requirement already satisfied: numpy in /Users/lakshyajha/anaconda3/lib/python3.11/site-packages (1.24.3)\n",
      "Requirement already satisfied: filelock in /Users/lakshyajha/anaconda3/lib/python3.11/site-packages (from transformers) (3.9.0)\n",
      "Requirement already satisfied: huggingface-hub<1.0,>=0.15.1 in /Users/lakshyajha/anaconda3/lib/python3.11/site-packages (from transformers) (0.15.1)\n",
      "Requirement already satisfied: packaging>=20.0 in /Users/lakshyajha/anaconda3/lib/python3.11/site-packages (from transformers) (23.1)\n",
      "Requirement already satisfied: pyyaml>=5.1 in /Users/lakshyajha/anaconda3/lib/python3.11/site-packages (from transformers) (6.0)\n",
      "Requirement already satisfied: regex!=2019.12.17 in /Users/lakshyajha/anaconda3/lib/python3.11/site-packages (from transformers) (2022.7.9)\n",
      "Requirement already satisfied: tokenizers!=0.11.3,<0.14,>=0.11.1 in /Users/lakshyajha/anaconda3/lib/python3.11/site-packages (from transformers) (0.13.2)\n",
      "Requirement already satisfied: safetensors>=0.3.1 in /Users/lakshyajha/anaconda3/lib/python3.11/site-packages (from transformers) (0.3.2)\n",
      "Requirement already satisfied: tqdm>=4.27 in /Users/lakshyajha/anaconda3/lib/python3.11/site-packages (from transformers) (4.65.0)\n",
      "Requirement already satisfied: charset-normalizer<4,>=2 in /Users/lakshyajha/anaconda3/lib/python3.11/site-packages (from requests) (2.0.4)\n",
      "Requirement already satisfied: idna<4,>=2.5 in /Users/lakshyajha/anaconda3/lib/python3.11/site-packages (from requests) (3.4)\n",
      "Requirement already satisfied: urllib3<3,>=1.21.1 in /Users/lakshyajha/anaconda3/lib/python3.11/site-packages (from requests) (2.2.1)\n",
      "Requirement already satisfied: certifi>=2017.4.17 in /Users/lakshyajha/anaconda3/lib/python3.11/site-packages (from requests) (2023.11.17)\n",
      "Requirement already satisfied: soupsieve>1.2 in /Users/lakshyajha/anaconda3/lib/python3.11/site-packages (from beautifulsoup4) (2.4)\n",
      "Requirement already satisfied: python-dateutil>=2.8.2 in /Users/lakshyajha/anaconda3/lib/python3.11/site-packages (from pandas) (2.8.2)\n",
      "Requirement already satisfied: pytz>=2020.1 in /Users/lakshyajha/anaconda3/lib/python3.11/site-packages (from pandas) (2023.3.post1)\n",
      "Requirement already satisfied: tzdata>=2022.1 in /Users/lakshyajha/anaconda3/lib/python3.11/site-packages (from pandas) (2023.3)\n",
      "Requirement already satisfied: fsspec in /Users/lakshyajha/anaconda3/lib/python3.11/site-packages (from huggingface-hub<1.0,>=0.15.1->transformers) (2023.4.0)\n",
      "Requirement already satisfied: typing-extensions>=3.7.4.3 in /Users/lakshyajha/anaconda3/lib/python3.11/site-packages (from huggingface-hub<1.0,>=0.15.1->transformers) (4.11.0)\n",
      "Requirement already satisfied: six>=1.5 in /Users/lakshyajha/anaconda3/lib/python3.11/site-packages (from python-dateutil>=2.8.2->pandas) (1.16.0)\n"
     ]
    }
   ],
   "source": [
    "!pip install transformers requests beautifulsoup4 pandas numpy"
   ]
  },
  {
   "cell_type": "code",
   "execution_count": 23,
   "id": "fb2f5c6a",
   "metadata": {},
   "outputs": [],
   "source": [
    "from transformers import AutoTokenizer, AutoModelForSequenceClassification #connecting string to NLP Model\n",
    "import torch #pytorch\n",
    "import requests #grab data\n",
    "from bs4 import BeautifulSoup #traverse data from requests\n",
    "import re #regEx"
   ]
  },
  {
   "cell_type": "code",
   "execution_count": 24,
   "id": "bf3b5f6e",
   "metadata": {},
   "outputs": [
    {
     "data": {
      "application/vnd.jupyter.widget-view+json": {
       "model_id": "e37397460fff41d7bac31ef4bd73a8c0",
       "version_major": 2,
       "version_minor": 0
      },
      "text/plain": [
       "Downloading tokenizer_config.json:   0%|          | 0.00/39.0 [00:00<?, ?B/s]"
      ]
     },
     "metadata": {},
     "output_type": "display_data"
    },
    {
     "data": {
      "application/vnd.jupyter.widget-view+json": {
       "model_id": "5c2240dd59b7490ebc6a7a948f986d52",
       "version_major": 2,
       "version_minor": 0
      },
      "text/plain": [
       "Downloading config.json:   0%|          | 0.00/953 [00:00<?, ?B/s]"
      ]
     },
     "metadata": {},
     "output_type": "display_data"
    },
    {
     "data": {
      "application/vnd.jupyter.widget-view+json": {
       "model_id": "78f713e7767b4d5aa45c8c6774da3798",
       "version_major": 2,
       "version_minor": 0
      },
      "text/plain": [
       "Downloading vocab.txt:   0%|          | 0.00/872k [00:00<?, ?B/s]"
      ]
     },
     "metadata": {},
     "output_type": "display_data"
    },
    {
     "data": {
      "application/vnd.jupyter.widget-view+json": {
       "model_id": "94bc4b55205040ff8c3090b4b651a1dd",
       "version_major": 2,
       "version_minor": 0
      },
      "text/plain": [
       "Downloading (…)cial_tokens_map.json:   0%|          | 0.00/112 [00:00<?, ?B/s]"
      ]
     },
     "metadata": {},
     "output_type": "display_data"
    },
    {
     "name": "stderr",
     "output_type": "stream",
     "text": [
      "/Users/lakshyajha/anaconda3/lib/python3.11/site-packages/transformers/utils/generic.py:260: UserWarning: torch.utils._pytree._register_pytree_node is deprecated. Please use torch.utils._pytree.register_pytree_node instead.\n",
      "  torch.utils._pytree._register_pytree_node(\n"
     ]
    },
    {
     "data": {
      "application/vnd.jupyter.widget-view+json": {
       "model_id": "1ac67edb9c944139855927b03b3bf9e5",
       "version_major": 2,
       "version_minor": 0
      },
      "text/plain": [
       "Downloading pytorch_model.bin:   0%|          | 0.00/669M [00:00<?, ?B/s]"
      ]
     },
     "metadata": {},
     "output_type": "display_data"
    }
   ],
   "source": [
    "#connecting to the NLP Model\n",
    "tokenizer = AutoTokenizer.from_pretrained('nlptown/bert-base-multilingual-uncased-sentiment')\n",
    "\n",
    "model = AutoModelForSequenceClassification.from_pretrained('nlptown/bert-base-multilingual-uncased-sentiment')"
   ]
  },
  {
   "cell_type": "code",
   "execution_count": 38,
   "id": "e7de8b64",
   "metadata": {},
   "outputs": [],
   "source": [
    "tokens = tokenizer.encode('I really hate it', return_tensors='pt') #pt is PyTorch. This whole thing basically gives us the encoded string"
   ]
  },
  {
   "cell_type": "code",
   "execution_count": 39,
   "id": "8c09f014",
   "metadata": {},
   "outputs": [],
   "source": [
    "result = model(tokens)"
   ]
  },
  {
   "cell_type": "code",
   "execution_count": 41,
   "id": "10f060ed",
   "metadata": {},
   "outputs": [
    {
     "data": {
      "text/plain": [
       "1"
      ]
     },
     "execution_count": 41,
     "metadata": {},
     "output_type": "execute_result"
    }
   ],
   "source": [
    "int(torch.argmax(result.logits))+1"
   ]
  },
  {
   "cell_type": "code",
   "execution_count": 60,
   "id": "0a071c9d",
   "metadata": {},
   "outputs": [],
   "source": [
    "r = requests.get('https://www.imdb.com/title/tt2788316/reviews?ref_=tt_urv')\n",
    "soup = BeautifulSoup(r.text, 'html.parser')\n",
    "regex = re.compile('.*review.*')\n",
    "results = soup.find_all('div', {'class': regex})\n",
    "reviews = [result.get_text(strip=True) for result in results]"
   ]
  },
  {
   "cell_type": "code",
   "execution_count": 62,
   "id": "1c0caa52",
   "metadata": {},
   "outputs": [
    {
     "data": {
      "text/plain": [
       "\"10/10ExcellentRob133122 March 2024I can't recommend Shogun enough! This is one of those rare shows that's a must watch. It takes place in Japan during the 1600' where Lord Yoshii Torango is turned on by Council of Regents and they try to kill him and his people. Then he finds a mysterious European ship marooned with its crew in a nearby village and everything changes from what he finds on it. This series has the look and feel of a blockbuster movie. Its world building, character development and attention to detail is as good as anything you'll see in tv. FX usually does a great job with its shows and Shogun is no different. I'll be shocked if this isn't nominated for several awards.259 out of 326 found this helpful.Was this review helpful?Sign into vote.Permalink\""
      ]
     },
     "execution_count": 62,
     "metadata": {},
     "output_type": "execute_result"
    }
   ],
   "source": [
    "reviews[0]"
   ]
  },
  {
   "cell_type": "code",
   "execution_count": 77,
   "id": "b2bee03d",
   "metadata": {},
   "outputs": [],
   "source": [
    "import pandas as pd\n",
    "import numpy as np"
   ]
  },
  {
   "cell_type": "code",
   "execution_count": 78,
   "id": "dbd9e9e0",
   "metadata": {},
   "outputs": [],
   "source": [
    "df = pd.DataFrame(np.array(reviews), columns=['reviews'])"
   ]
  },
  {
   "cell_type": "code",
   "execution_count": 81,
   "id": "d94175d7",
   "metadata": {},
   "outputs": [],
   "source": [
    "def sentiScore(reviews):\n",
    "    tokens = tokenizer.encode(reviews, return_tensors='pt')\n",
    "    result = model(tokens)\n",
    "    return int(torch.argmax(result.logits))+1\n",
    "    "
   ]
  },
  {
   "cell_type": "code",
   "execution_count": 84,
   "id": "006af402",
   "metadata": {},
   "outputs": [
    {
     "data": {
      "text/plain": [
       "3"
      ]
     },
     "execution_count": 84,
     "metadata": {},
     "output_type": "execute_result"
    }
   ],
   "source": [
    "sentiScore(df['reviews'].iloc[1])"
   ]
  },
  {
   "cell_type": "code",
   "execution_count": 87,
   "id": "101ba7af",
   "metadata": {},
   "outputs": [],
   "source": [
    "df['sentiment'] = df['reviews'].apply (lambda x: sentiScore(x[:512]))"
   ]
  },
  {
   "cell_type": "code",
   "execution_count": 88,
   "id": "1d7ff20f",
   "metadata": {},
   "outputs": [
    {
     "data": {
      "text/html": [
       "<div>\n",
       "<style scoped>\n",
       "    .dataframe tbody tr th:only-of-type {\n",
       "        vertical-align: middle;\n",
       "    }\n",
       "\n",
       "    .dataframe tbody tr th {\n",
       "        vertical-align: top;\n",
       "    }\n",
       "\n",
       "    .dataframe thead th {\n",
       "        text-align: right;\n",
       "    }\n",
       "</style>\n",
       "<table border=\"1\" class=\"dataframe\">\n",
       "  <thead>\n",
       "    <tr style=\"text-align: right;\">\n",
       "      <th></th>\n",
       "      <th>reviews</th>\n",
       "      <th>sentiment</th>\n",
       "    </tr>\n",
       "  </thead>\n",
       "  <tbody>\n",
       "    <tr>\n",
       "      <th>0</th>\n",
       "      <td>10/10ExcellentRob133122 March 2024I can't reco...</td>\n",
       "      <td>5</td>\n",
       "    </tr>\n",
       "    <tr>\n",
       "      <th>1</th>\n",
       "      <td>10/10ExcellentRob133122 March 2024I can't reco...</td>\n",
       "      <td>5</td>\n",
       "    </tr>\n",
       "    <tr>\n",
       "      <th>2</th>\n",
       "      <td>10/10Amazing seriesBeske27 February 2024Everyt...</td>\n",
       "      <td>5</td>\n",
       "    </tr>\n",
       "    <tr>\n",
       "      <th>3</th>\n",
       "      <td>10/10Amazing seriesBeske27 February 2024Everyt...</td>\n",
       "      <td>5</td>\n",
       "    </tr>\n",
       "    <tr>\n",
       "      <th>4</th>\n",
       "      <td>An amazing television achievement but differen...</td>\n",
       "      <td>4</td>\n",
       "    </tr>\n",
       "    <tr>\n",
       "      <th>5</th>\n",
       "      <td>An amazing television achievement but differen...</td>\n",
       "      <td>4</td>\n",
       "    </tr>\n",
       "    <tr>\n",
       "      <th>6</th>\n",
       "      <td>10/10Brilliant !thelastapasenger27 February 20...</td>\n",
       "      <td>5</td>\n",
       "    </tr>\n",
       "    <tr>\n",
       "      <th>7</th>\n",
       "      <td>10/10Brilliant !thelastapasenger27 February 20...</td>\n",
       "      <td>5</td>\n",
       "    </tr>\n",
       "    <tr>\n",
       "      <th>8</th>\n",
       "      <td>9/10Best thing I've seen for a long timegillia...</td>\n",
       "      <td>5</td>\n",
       "    </tr>\n",
       "    <tr>\n",
       "      <th>9</th>\n",
       "      <td>9/10Best thing I've seen for a long timegillia...</td>\n",
       "      <td>5</td>\n",
       "    </tr>\n",
       "    <tr>\n",
       "      <th>10</th>\n",
       "      <td>9/10Could've had a better endingSupermanfan-13...</td>\n",
       "      <td>5</td>\n",
       "    </tr>\n",
       "    <tr>\n",
       "      <th>11</th>\n",
       "      <td>9/10Could've had a better endingSupermanfan-13...</td>\n",
       "      <td>5</td>\n",
       "    </tr>\n",
       "    <tr>\n",
       "      <th>12</th>\n",
       "      <td>9/10Finally, something authentic and worth wat...</td>\n",
       "      <td>5</td>\n",
       "    </tr>\n",
       "    <tr>\n",
       "      <th>13</th>\n",
       "      <td>9/10Finally, something authentic and worth wat...</td>\n",
       "      <td>5</td>\n",
       "    </tr>\n",
       "    <tr>\n",
       "      <th>14</th>\n",
       "      <td>8/10Toranagasama isn't worthyanna-majcher24 Ap...</td>\n",
       "      <td>2</td>\n",
       "    </tr>\n",
       "    <tr>\n",
       "      <th>15</th>\n",
       "      <td>8/10Toranagasama isn't worthyanna-majcher24 Ap...</td>\n",
       "      <td>2</td>\n",
       "    </tr>\n",
       "    <tr>\n",
       "      <th>16</th>\n",
       "      <td>6/10Disappointed.selinaluebbers24 April 2024We...</td>\n",
       "      <td>2</td>\n",
       "    </tr>\n",
       "    <tr>\n",
       "      <th>17</th>\n",
       "      <td>6/10Disappointed.selinaluebbers24 April 2024We...</td>\n",
       "      <td>2</td>\n",
       "    </tr>\n",
       "    <tr>\n",
       "      <th>18</th>\n",
       "      <td>5/10They come to talk, and die, and talk some ...</td>\n",
       "      <td>2</td>\n",
       "    </tr>\n",
       "    <tr>\n",
       "      <th>19</th>\n",
       "      <td>5/10They come to talk, and die, and talk some ...</td>\n",
       "      <td>2</td>\n",
       "    </tr>\n",
       "    <tr>\n",
       "      <th>20</th>\n",
       "      <td>Highly recommended0U28 February 2024I've just ...</td>\n",
       "      <td>5</td>\n",
       "    </tr>\n",
       "    <tr>\n",
       "      <th>21</th>\n",
       "      <td>Highly recommended0U28 February 2024I've just ...</td>\n",
       "      <td>5</td>\n",
       "    </tr>\n",
       "    <tr>\n",
       "      <th>22</th>\n",
       "      <td>10/10As of episode 5 this is the best show of ...</td>\n",
       "      <td>5</td>\n",
       "    </tr>\n",
       "    <tr>\n",
       "      <th>23</th>\n",
       "      <td>10/10As of episode 5 this is the best show of ...</td>\n",
       "      <td>5</td>\n",
       "    </tr>\n",
       "    <tr>\n",
       "      <th>24</th>\n",
       "      <td>10/10Actually spectaculargreenmangreat28 Febru...</td>\n",
       "      <td>5</td>\n",
       "    </tr>\n",
       "    <tr>\n",
       "      <th>25</th>\n",
       "      <td>10/10Actually spectaculargreenmangreat28 Febru...</td>\n",
       "      <td>5</td>\n",
       "    </tr>\n",
       "    <tr>\n",
       "      <th>26</th>\n",
       "      <td>9/10To anyone who remembers the 1980's Richard...</td>\n",
       "      <td>2</td>\n",
       "    </tr>\n",
       "    <tr>\n",
       "      <th>27</th>\n",
       "      <td>9/10To anyone who remembers the 1980's Richard...</td>\n",
       "      <td>2</td>\n",
       "    </tr>\n",
       "    <tr>\n",
       "      <th>28</th>\n",
       "      <td>8/10Lost me a bit in the endemil-raphaug23 Apr...</td>\n",
       "      <td>4</td>\n",
       "    </tr>\n",
       "    <tr>\n",
       "      <th>29</th>\n",
       "      <td>8/10Lost me a bit in the endemil-raphaug23 Apr...</td>\n",
       "      <td>4</td>\n",
       "    </tr>\n",
       "    <tr>\n",
       "      <th>30</th>\n",
       "      <td>8/10It Worked For Merickspung29 April 2024Warn...</td>\n",
       "      <td>4</td>\n",
       "    </tr>\n",
       "    <tr>\n",
       "      <th>31</th>\n",
       "      <td>8/10It Worked For Merickspung29 April 2024Warn...</td>\n",
       "      <td>4</td>\n",
       "    </tr>\n",
       "    <tr>\n",
       "      <th>32</th>\n",
       "      <td>8/10Almost great, but...kimhansen-4228029 Apri...</td>\n",
       "      <td>3</td>\n",
       "    </tr>\n",
       "    <tr>\n",
       "      <th>33</th>\n",
       "      <td>8/10Almost great, but...kimhansen-4228029 Apri...</td>\n",
       "      <td>3</td>\n",
       "    </tr>\n",
       "    <tr>\n",
       "      <th>34</th>\n",
       "      <td>8/10Another good series with a bad endingjeffp...</td>\n",
       "      <td>3</td>\n",
       "    </tr>\n",
       "    <tr>\n",
       "      <th>35</th>\n",
       "      <td>8/10Another good series with a bad endingjeffp...</td>\n",
       "      <td>3</td>\n",
       "    </tr>\n",
       "    <tr>\n",
       "      <th>36</th>\n",
       "      <td>10/10A wonderful and fitting tribute to both C...</td>\n",
       "      <td>5</td>\n",
       "    </tr>\n",
       "    <tr>\n",
       "      <th>37</th>\n",
       "      <td>10/10A wonderful and fitting tribute to both C...</td>\n",
       "      <td>5</td>\n",
       "    </tr>\n",
       "    <tr>\n",
       "      <th>38</th>\n",
       "      <td>7/10Good but could have been so much betteres9...</td>\n",
       "      <td>3</td>\n",
       "    </tr>\n",
       "    <tr>\n",
       "      <th>39</th>\n",
       "      <td>7/10Good but could have been so much betteres9...</td>\n",
       "      <td>3</td>\n",
       "    </tr>\n",
       "    <tr>\n",
       "      <th>40</th>\n",
       "      <td>4/10Repetitive and at times absurdPwn_teh25 Ap...</td>\n",
       "      <td>4</td>\n",
       "    </tr>\n",
       "    <tr>\n",
       "      <th>41</th>\n",
       "      <td>4/10Repetitive and at times absurdPwn_teh25 Ap...</td>\n",
       "      <td>4</td>\n",
       "    </tr>\n",
       "    <tr>\n",
       "      <th>42</th>\n",
       "      <td>Very well made, but never actually goes anywhe...</td>\n",
       "      <td>4</td>\n",
       "    </tr>\n",
       "    <tr>\n",
       "      <th>43</th>\n",
       "      <td>Very well made, but never actually goes anywhe...</td>\n",
       "      <td>4</td>\n",
       "    </tr>\n",
       "    <tr>\n",
       "      <th>44</th>\n",
       "      <td>8/10Good Remake!glofish-3760027 April 2024Thor...</td>\n",
       "      <td>4</td>\n",
       "    </tr>\n",
       "    <tr>\n",
       "      <th>45</th>\n",
       "      <td>8/10Good Remake!glofish-3760027 April 2024Thor...</td>\n",
       "      <td>4</td>\n",
       "    </tr>\n",
       "    <tr>\n",
       "      <th>46</th>\n",
       "      <td>9/10Decent RemakeTuranic27 February 2024I am a...</td>\n",
       "      <td>4</td>\n",
       "    </tr>\n",
       "    <tr>\n",
       "      <th>47</th>\n",
       "      <td>9/10Decent RemakeTuranic27 February 2024I am a...</td>\n",
       "      <td>4</td>\n",
       "    </tr>\n",
       "    <tr>\n",
       "      <th>48</th>\n",
       "      <td>9/10Fantastic show brought down only by one th...</td>\n",
       "      <td>2</td>\n",
       "    </tr>\n",
       "    <tr>\n",
       "      <th>49</th>\n",
       "      <td>9/10Fantastic show brought down only by one th...</td>\n",
       "      <td>2</td>\n",
       "    </tr>\n",
       "    <tr>\n",
       "      <th>50</th>\n",
       "      <td>2024 Shows I've watcheda list of 38 titlescrea...</td>\n",
       "      <td>1</td>\n",
       "    </tr>\n",
       "    <tr>\n",
       "      <th>51</th>\n",
       "      <td></td>\n",
       "      <td>4</td>\n",
       "    </tr>\n",
       "    <tr>\n",
       "      <th>52</th>\n",
       "      <td>Everything I watched in April 2024a list of 41...</td>\n",
       "      <td>5</td>\n",
       "    </tr>\n",
       "    <tr>\n",
       "      <th>53</th>\n",
       "      <td></td>\n",
       "      <td>4</td>\n",
       "    </tr>\n",
       "    <tr>\n",
       "      <th>54</th>\n",
       "      <td>2024-2025a list of 30 titlescreated 3 months ago</td>\n",
       "      <td>1</td>\n",
       "    </tr>\n",
       "    <tr>\n",
       "      <th>55</th>\n",
       "      <td></td>\n",
       "      <td>4</td>\n",
       "    </tr>\n",
       "    <tr>\n",
       "      <th>56</th>\n",
       "      <td>2024 | Watched Filmsa list of 45 titlescreated...</td>\n",
       "      <td>1</td>\n",
       "    </tr>\n",
       "    <tr>\n",
       "      <th>57</th>\n",
       "      <td></td>\n",
       "      <td>4</td>\n",
       "    </tr>\n",
       "    <tr>\n",
       "      <th>58</th>\n",
       "      <td>Old daysa list of 23 titlescreated 8 months ago</td>\n",
       "      <td>1</td>\n",
       "    </tr>\n",
       "    <tr>\n",
       "      <th>59</th>\n",
       "      <td></td>\n",
       "      <td>4</td>\n",
       "    </tr>\n",
       "  </tbody>\n",
       "</table>\n",
       "</div>"
      ],
      "text/plain": [
       "                                              reviews  sentiment\n",
       "0   10/10ExcellentRob133122 March 2024I can't reco...          5\n",
       "1   10/10ExcellentRob133122 March 2024I can't reco...          5\n",
       "2   10/10Amazing seriesBeske27 February 2024Everyt...          5\n",
       "3   10/10Amazing seriesBeske27 February 2024Everyt...          5\n",
       "4   An amazing television achievement but differen...          4\n",
       "5   An amazing television achievement but differen...          4\n",
       "6   10/10Brilliant !thelastapasenger27 February 20...          5\n",
       "7   10/10Brilliant !thelastapasenger27 February 20...          5\n",
       "8   9/10Best thing I've seen for a long timegillia...          5\n",
       "9   9/10Best thing I've seen for a long timegillia...          5\n",
       "10  9/10Could've had a better endingSupermanfan-13...          5\n",
       "11  9/10Could've had a better endingSupermanfan-13...          5\n",
       "12  9/10Finally, something authentic and worth wat...          5\n",
       "13  9/10Finally, something authentic and worth wat...          5\n",
       "14  8/10Toranagasama isn't worthyanna-majcher24 Ap...          2\n",
       "15  8/10Toranagasama isn't worthyanna-majcher24 Ap...          2\n",
       "16  6/10Disappointed.selinaluebbers24 April 2024We...          2\n",
       "17  6/10Disappointed.selinaluebbers24 April 2024We...          2\n",
       "18  5/10They come to talk, and die, and talk some ...          2\n",
       "19  5/10They come to talk, and die, and talk some ...          2\n",
       "20  Highly recommended0U28 February 2024I've just ...          5\n",
       "21  Highly recommended0U28 February 2024I've just ...          5\n",
       "22  10/10As of episode 5 this is the best show of ...          5\n",
       "23  10/10As of episode 5 this is the best show of ...          5\n",
       "24  10/10Actually spectaculargreenmangreat28 Febru...          5\n",
       "25  10/10Actually spectaculargreenmangreat28 Febru...          5\n",
       "26  9/10To anyone who remembers the 1980's Richard...          2\n",
       "27  9/10To anyone who remembers the 1980's Richard...          2\n",
       "28  8/10Lost me a bit in the endemil-raphaug23 Apr...          4\n",
       "29  8/10Lost me a bit in the endemil-raphaug23 Apr...          4\n",
       "30  8/10It Worked For Merickspung29 April 2024Warn...          4\n",
       "31  8/10It Worked For Merickspung29 April 2024Warn...          4\n",
       "32  8/10Almost great, but...kimhansen-4228029 Apri...          3\n",
       "33  8/10Almost great, but...kimhansen-4228029 Apri...          3\n",
       "34  8/10Another good series with a bad endingjeffp...          3\n",
       "35  8/10Another good series with a bad endingjeffp...          3\n",
       "36  10/10A wonderful and fitting tribute to both C...          5\n",
       "37  10/10A wonderful and fitting tribute to both C...          5\n",
       "38  7/10Good but could have been so much betteres9...          3\n",
       "39  7/10Good but could have been so much betteres9...          3\n",
       "40  4/10Repetitive and at times absurdPwn_teh25 Ap...          4\n",
       "41  4/10Repetitive and at times absurdPwn_teh25 Ap...          4\n",
       "42  Very well made, but never actually goes anywhe...          4\n",
       "43  Very well made, but never actually goes anywhe...          4\n",
       "44  8/10Good Remake!glofish-3760027 April 2024Thor...          4\n",
       "45  8/10Good Remake!glofish-3760027 April 2024Thor...          4\n",
       "46  9/10Decent RemakeTuranic27 February 2024I am a...          4\n",
       "47  9/10Decent RemakeTuranic27 February 2024I am a...          4\n",
       "48  9/10Fantastic show brought down only by one th...          2\n",
       "49  9/10Fantastic show brought down only by one th...          2\n",
       "50  2024 Shows I've watcheda list of 38 titlescrea...          1\n",
       "51                                                             4\n",
       "52  Everything I watched in April 2024a list of 41...          5\n",
       "53                                                             4\n",
       "54   2024-2025a list of 30 titlescreated 3 months ago          1\n",
       "55                                                             4\n",
       "56  2024 | Watched Filmsa list of 45 titlescreated...          1\n",
       "57                                                             4\n",
       "58    Old daysa list of 23 titlescreated 8 months ago          1\n",
       "59                                                             4"
      ]
     },
     "execution_count": 88,
     "metadata": {},
     "output_type": "execute_result"
    }
   ],
   "source": [
    "df"
   ]
  },
  {
   "cell_type": "code",
   "execution_count": 89,
   "id": "828f2bd9",
   "metadata": {},
   "outputs": [
    {
     "data": {
      "text/plain": [
       "\"8/10Toranagasama isn't worthyanna-majcher24 April 2024Warning: SpoilersIn this 10-episode series we are led to side with the character of Toranaga, a Japanese lord whose life, and the life of everyone in his corner, is at risk at the hands of the other ruling regents. The way the show depicts Toranaga at first is the classic take on a strongwilled man, who is vilified because he is too much of a risk to the remainder of the ruling parties. The five men were supposed to rule in unison until the king comes of age, however, one man seems to go against the will of the other four and therefore is persecuted. We are led to believe that the four regents are the vile and egoistical ones, giving in to greed and foreign christian influence over the wellbeing of their own people. Lord Toranaga, on the other hand, supposedly goes against this, wishing to survive and bring prosperity with his vision.This carefully crafted image shatters in the last minutes of episode 8 and subsequently in ep 10. The man plays the underdog, pretends he is ready to give up so that his followers are all the more riled up and urge him to fight on. He gaslights his generals into signing an agreement to give up, he has his most trusted advisor and lifelong friend commit seppuku as part of his plan. He sacrifices lady Mariko into giving her life to him as well, so that he can free hostages who are on his side and manipulate the king's mother into assisting him. He then orders for the Anjin's ship to be burned and tortures the whole village, killing innocent people, pretending to be looking for the culprits of the burning, all as a twisted test to see how the Anjin would behave. He claims to be humble, to be ready to sacrifice himself for the good of the realm. He is not. He is ruthless, trecherous, absolutely obsessed with power, holding human life in no regard, killing people at whim. And the worst of it all, he will kill off anyone in his circle, be it his loyalists or regular villagers, just to prove a point. There is nothing noble about this man.This series leaves you wondering whether you have been rooting for the wrong side all along and feeling that all of this 10-hour investment has been wasted. Especially that, after you learn of Toranaga's villainy, there is absolutely no follow up to see how the other characters react to this man having his way and what the fallout of all this is to the general people.30 out of 37 found this helpful.Was this review helpful?Sign into vote.Permalink\""
      ]
     },
     "execution_count": 89,
     "metadata": {},
     "output_type": "execute_result"
    }
   ],
   "source": [
    "df['reviews'].iloc[14]"
   ]
  }
 ],
 "metadata": {
  "kernelspec": {
   "display_name": "Python 3 (ipykernel)",
   "language": "python",
   "name": "python3"
  },
  "language_info": {
   "codemirror_mode": {
    "name": "ipython",
    "version": 3
   },
   "file_extension": ".py",
   "mimetype": "text/x-python",
   "name": "python",
   "nbconvert_exporter": "python",
   "pygments_lexer": "ipython3",
   "version": "3.11.5"
  }
 },
 "nbformat": 4,
 "nbformat_minor": 5
}
